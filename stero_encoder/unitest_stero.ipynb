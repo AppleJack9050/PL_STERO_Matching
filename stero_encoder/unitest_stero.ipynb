{
 "cells": [
  {
   "cell_type": "code",
   "execution_count": 1,
   "metadata": {},
   "outputs": [],
   "source": [
    "import torch\n",
    "import torch.nn as nn\n",
    "from resnet_fpn import ResNetFPN_8_2"
   ]
  },
  {
   "cell_type": "code",
   "execution_count": 3,
   "metadata": {},
   "outputs": [
    {
     "name": "stdout",
     "output_type": "stream",
     "text": [
      "x3_out shape: torch.Size([1, 256, 28, 28])\n",
      "x1_out shape: torch.Size([1, 64, 112, 112])\n"
     ]
    }
   ],
   "source": [
    "import torch\n",
    "\n",
    "# Create a dummy input tensor with batch size 1, 1 channel, and 224x224 spatial dimensions.\n",
    "dummy_input = torch.randn(1, 1, 224, 224)\n",
    "\n",
    "# Instantiate the model (using default initial_dim and block_dims)\n",
    "model = ResNetFPN_8_2(initial_dim=64, block_dims = [64, 128, 256, 512])\n",
    "\n",
    "# Get the outputs\n",
    "outputs = model(dummy_input)\n",
    "print(\"x3_out shape:\", outputs[0].shape)  # Expected to be 1/8 resolution\n",
    "print(\"x1_out shape:\", outputs[1].shape)  # Expected to be 1/2 resolution\n"
   ]
  }
 ],
 "metadata": {
  "kernelspec": {
   "display_name": "Python 3",
   "language": "python",
   "name": "python3"
  },
  "language_info": {
   "codemirror_mode": {
    "name": "ipython",
    "version": 3
   },
   "file_extension": ".py",
   "mimetype": "text/x-python",
   "name": "python",
   "nbconvert_exporter": "python",
   "pygments_lexer": "ipython3",
   "version": "3.12.9"
  }
 },
 "nbformat": 4,
 "nbformat_minor": 2
}
